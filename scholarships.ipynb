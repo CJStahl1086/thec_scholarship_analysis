{
 "cells": [
  {
   "cell_type": "code",
   "execution_count": 1,
   "id": "5f906ef6",
   "metadata": {},
   "outputs": [],
   "source": [
    "import pandas as pd\n",
    "import numpy as np\n",
    "import seaborn as sns\n",
    "import matplotlib\n",
    "import matplotlib.pyplot as plt"
   ]
  },
  {
   "cell_type": "code",
   "execution_count": 2,
   "id": "bde91f07",
   "metadata": {},
   "outputs": [
    {
     "data": {
      "text/html": [
       "<div>\n",
       "<style scoped>\n",
       "    .dataframe tbody tr th:only-of-type {\n",
       "        vertical-align: middle;\n",
       "    }\n",
       "\n",
       "    .dataframe tbody tr th {\n",
       "        vertical-align: top;\n",
       "    }\n",
       "\n",
       "    .dataframe thead th {\n",
       "        text-align: right;\n",
       "    }\n",
       "</style>\n",
       "<table border=\"1\" class=\"dataframe\">\n",
       "  <thead>\n",
       "    <tr style=\"text-align: right;\">\n",
       "      <th></th>\n",
       "      <th>Unique_ID</th>\n",
       "      <th>SystemName</th>\n",
       "      <th>LotteryScholType</th>\n",
       "      <th>Gender</th>\n",
       "      <th>RaceName</th>\n",
       "      <th>ACTComposite</th>\n",
       "      <th>OverallHSGPAGED</th>\n",
       "      <th>FTPTStatus</th>\n",
       "      <th>AGICategory</th>\n",
       "      <th>PellEligible</th>\n",
       "      <th>ParentEd</th>\n",
       "    </tr>\n",
       "  </thead>\n",
       "  <tbody>\n",
       "    <tr>\n",
       "      <th>0</th>\n",
       "      <td>1000001</td>\n",
       "      <td>TBR Community Colleges</td>\n",
       "      <td>1_HOPE</td>\n",
       "      <td>F</td>\n",
       "      <td>White, Not Hispanic</td>\n",
       "      <td>24.0</td>\n",
       "      <td>3.968</td>\n",
       "      <td>FT</td>\n",
       "      <td>$96,001orAbove</td>\n",
       "      <td>0</td>\n",
       "      <td>1</td>\n",
       "    </tr>\n",
       "    <tr>\n",
       "      <th>1</th>\n",
       "      <td>1000002</td>\n",
       "      <td>LGI Universities</td>\n",
       "      <td>1_HOPE</td>\n",
       "      <td>F</td>\n",
       "      <td>White, Not Hispanic</td>\n",
       "      <td>20.0</td>\n",
       "      <td>2.700</td>\n",
       "      <td>FT</td>\n",
       "      <td>$24,001to$36,000</td>\n",
       "      <td>1</td>\n",
       "      <td>0</td>\n",
       "    </tr>\n",
       "    <tr>\n",
       "      <th>2</th>\n",
       "      <td>1000003</td>\n",
       "      <td>TBR Community Colleges</td>\n",
       "      <td>1_HOPE</td>\n",
       "      <td>M</td>\n",
       "      <td>Unknown</td>\n",
       "      <td>22.0</td>\n",
       "      <td>2.950</td>\n",
       "      <td>FT</td>\n",
       "      <td>$84,001to$96,000</td>\n",
       "      <td>0</td>\n",
       "      <td>1</td>\n",
       "    </tr>\n",
       "    <tr>\n",
       "      <th>3</th>\n",
       "      <td>1000006</td>\n",
       "      <td>Independent Colleges &amp; Universities</td>\n",
       "      <td>1_HOPE</td>\n",
       "      <td>M</td>\n",
       "      <td>White, Not Hispanic</td>\n",
       "      <td>21.0</td>\n",
       "      <td>2.270</td>\n",
       "      <td>FT</td>\n",
       "      <td>$60,001to$72,000</td>\n",
       "      <td>1</td>\n",
       "      <td>0</td>\n",
       "    </tr>\n",
       "    <tr>\n",
       "      <th>4</th>\n",
       "      <td>1000007</td>\n",
       "      <td>TBR Community Colleges</td>\n",
       "      <td>1_HOPE</td>\n",
       "      <td>M</td>\n",
       "      <td>Unknown</td>\n",
       "      <td>24.0</td>\n",
       "      <td>3.150</td>\n",
       "      <td>FT</td>\n",
       "      <td>$72,001to$84,000</td>\n",
       "      <td>0</td>\n",
       "      <td>0</td>\n",
       "    </tr>\n",
       "  </tbody>\n",
       "</table>\n",
       "</div>"
      ],
      "text/plain": [
       "   Unique_ID                           SystemName LotteryScholType Gender  \\\n",
       "0    1000001               TBR Community Colleges           1_HOPE      F   \n",
       "1    1000002                     LGI Universities           1_HOPE      F   \n",
       "2    1000003               TBR Community Colleges           1_HOPE      M   \n",
       "3    1000006  Independent Colleges & Universities           1_HOPE      M   \n",
       "4    1000007               TBR Community Colleges           1_HOPE      M   \n",
       "\n",
       "              RaceName  ACTComposite  OverallHSGPAGED FTPTStatus  \\\n",
       "0  White, Not Hispanic          24.0            3.968         FT   \n",
       "1  White, Not Hispanic          20.0            2.700         FT   \n",
       "2              Unknown          22.0            2.950         FT   \n",
       "3  White, Not Hispanic          21.0            2.270         FT   \n",
       "4              Unknown          24.0            3.150         FT   \n",
       "\n",
       "        AGICategory  PellEligible  ParentEd  \n",
       "0    $96,001orAbove             0         1  \n",
       "1  $24,001to$36,000             1         0  \n",
       "2  $84,001to$96,000             0         1  \n",
       "3  $60,001to$72,000             1         0  \n",
       "4  $72,001to$84,000             0         0  "
      ]
     },
     "execution_count": 2,
     "metadata": {},
     "output_type": "execute_result"
    }
   ],
   "source": [
    "data = pd.read_excel('Data Task_Feb2023_TELS (1).xlsx')\n",
    "data.head()"
   ]
  },
  {
   "cell_type": "code",
   "execution_count": 3,
   "id": "9f381d5b",
   "metadata": {},
   "outputs": [
    {
     "data": {
      "text/plain": [
       "(49605, 11)"
      ]
     },
     "execution_count": 3,
     "metadata": {},
     "output_type": "execute_result"
    }
   ],
   "source": [
    "#rows and columns numbers\n",
    "data.shape"
   ]
  },
  {
   "cell_type": "code",
   "execution_count": 4,
   "id": "dbfc73ac",
   "metadata": {},
   "outputs": [
    {
     "name": "stdout",
     "output_type": "stream",
     "text": [
      "<class 'pandas.core.frame.DataFrame'>\n",
      "RangeIndex: 49605 entries, 0 to 49604\n",
      "Data columns (total 11 columns):\n",
      " #   Column            Non-Null Count  Dtype  \n",
      "---  ------            --------------  -----  \n",
      " 0   Unique_ID         49605 non-null  int64  \n",
      " 1   SystemName        49605 non-null  object \n",
      " 2   LotteryScholType  49605 non-null  object \n",
      " 3   Gender            49605 non-null  object \n",
      " 4   RaceName          49605 non-null  object \n",
      " 5   ACTComposite      49289 non-null  float64\n",
      " 6   OverallHSGPAGED   49493 non-null  float64\n",
      " 7   FTPTStatus        49605 non-null  object \n",
      " 8   AGICategory       49605 non-null  object \n",
      " 9   PellEligible      49605 non-null  int64  \n",
      " 10  ParentEd          49605 non-null  int64  \n",
      "dtypes: float64(2), int64(3), object(6)\n",
      "memory usage: 4.2+ MB\n"
     ]
    }
   ],
   "source": [
    "#checking data types \n",
    "data.info()"
   ]
  },
  {
   "cell_type": "code",
   "execution_count": 5,
   "id": "f200d493",
   "metadata": {},
   "outputs": [
    {
     "data": {
      "image/png": "[encoded data removed]",
      "text/plain": [
       "<Figure size 864x648 with 2 Axes>"
      ]
     },
     "metadata": {
      "needs_background": "light"
     },
     "output_type": "display_data"
    }
   ],
   "source": [
    "sns.set_style('darkgrid')\n",
    "matplotlib.rcParams['font.size'] = 14\n",
    "matplotlib.rcParams['figure.figsize'] = (9, 5)\n",
    "matplotlib.rcParams['figure.facecolor'] = '#00000000'\n",
    "\n",
    "#correlation of numeric data\n",
    "corrdata = data.corr()\n",
    "#setting fig dims\n",
    "fig = plt.figure(figsize = (12, 9))\n",
    "#masking the upper traingle (repetitive)\n",
    "mask = np.triu(np.ones_like(corrdata, dtype=bool))\n",
    "sns.heatmap(corrdata, vmax = .8,mask=mask, square = True, annot = True)\n",
    "plt.show()"
   ]
  },
  {
   "cell_type": "code",
   "execution_count": 6,
   "id": "15e9ea49",
   "metadata": {},
   "outputs": [],
   "source": [
    "# changing GPAs > 4.0 to 4.0\n",
    "data.loc[data['OverallHSGPAGED'] > 4, 'OverallHSGPAGED'] = 4.0"
   ]
  },
  {
   "cell_type": "code",
   "execution_count": 7,
   "id": "d357c036",
   "metadata": {},
   "outputs": [
    {
     "data": {
      "image/png": "[encoded data removed]",
      "text/plain": [
       "<Figure size 360x360 with 1 Axes>"
      ]
     },
     "metadata": {
      "needs_background": "light"
     },
     "output_type": "display_data"
    }
   ],
   "source": [
    "#distribution of GPA\n",
    "a = sns.displot(data, x='OverallHSGPAGED').set(title = 'Distribution of HS GPA')\n",
    "a = a.set_axis_labels('High School GPA', 'Number of Students')"
   ]
  },
  {
   "cell_type": "code",
   "execution_count": 8,
   "id": "f6a8e38c",
   "metadata": {},
   "outputs": [
    {
     "data": {
      "image/png": "[encoded data removed]",
      "text/plain": [
       "<Figure size 360x360 with 1 Axes>"
      ]
     },
     "metadata": {
      "needs_background": "light"
     },
     "output_type": "display_data"
    }
   ],
   "source": [
    "#distribution of ACT scores\n",
    "b = sns.displot(data, x='ACTComposite').set(title = 'Distribution of ACT Scores')\n",
    "b = b.set_axis_labels('ACT Scores', 'Number of Students')"
   ]
  },
  {
   "cell_type": "code",
   "execution_count": 9,
   "id": "13de4bae",
   "metadata": {},
   "outputs": [
    {
     "name": "stdout",
     "output_type": "stream",
     "text": [
      "The average score of the ACT is 22.91\n",
      "The average GPA is 3.48\n"
     ]
    }
   ],
   "source": [
    "#stats of ACT scores\n",
    "mean = round(data['ACTComposite'].mean(),2)\n",
    "mean1 = round(data['OverallHSGPAGED'].mean(),2)\n",
    "print(f'The average score of the ACT is {mean}')\n",
    "print(f'The average GPA is {mean1}')"
   ]
  },
  {
   "cell_type": "code",
   "execution_count": 10,
   "id": "2220f1e4",
   "metadata": {},
   "outputs": [
    {
     "data": {
      "text/plain": [
       "White, Not Hispanic          38911\n",
       "Black, Not Hispanic           5935\n",
       "Hispanic                      1401\n",
       "MultiRacial                   1187\n",
       "Unknown                       1134\n",
       "Asian or Pacific Islander      934\n",
       "American Indian                 98\n",
       "Alaskan Native                   5\n",
       "Name: RaceName, dtype: int64"
      ]
     },
     "execution_count": 10,
     "metadata": {},
     "output_type": "execute_result"
    }
   ],
   "source": [
    "# value counts by race\n",
    "data['RaceName'].value_counts()"
   ]
  },
  {
   "cell_type": "code",
   "execution_count": 11,
   "id": "31da6d8a",
   "metadata": {},
   "outputs": [],
   "source": [
    "#creating new columns for scholarship calculation\n",
    "data['ColType'] = data['SystemName'].copy()\n",
    "yr4 = 'LGI Universities', 'Independent Colleges & Universities', 'University of Tennessee'\n",
    "yr2 = 'TBR Community Colleges'\n",
    "data['ColType'] = data['ColType'].replace(yr4, 4)\n",
    "data['ColType'] = data['ColType'].replace(yr2, 2)\n",
    "data['scholarship'] = 0\n",
    "\n",
    "#GAMS SCHOLARSHIPS\n",
    "#GAMS 4 Year FT\n",
    "data['scholarship'] = np.where((data['ColType'] == 4) & (data['LotteryScholType'] == '2_GAMS') & (data['FTPTStatus'] == 'FT'), 4500, data['scholarship'])\n",
    "\n",
    "#GAMS 4 Year PT\n",
    "data['scholarship'] = np.where((data['ColType'] == 4) & (data['LotteryScholType'] == '2_GAMS') & (data['FTPTStatus'] == 'PT'), 2250, data['scholarship'])\n",
    "\n",
    "#GAMS 2 Year FT\n",
    "data['scholarship'] = np.where((data['ColType'] == 2) & (data['LotteryScholType'] == '2_GAMS') & (data['FTPTStatus'] == 'FT'), 4000, data['scholarship'])\n",
    "                               \n",
    "#GAMS 2 Year PT\n",
    "data['scholarship'] = np.where((data['ColType'] == 2) & (data['LotteryScholType'] == '2_GAMS') & (data['FTPTStatus'] == 'PT'), 2000, data['scholarship'])\n",
    "\n",
    "\n",
    "\n",
    "#HOPE SCHOLARSHIPS\n",
    "#HOPE 4 Year FT\n",
    "data['scholarship'] = np.where((data['ColType'] == 4) & (data['LotteryScholType'] == '1_HOPE') & (data['FTPTStatus'] == 'FT'), 3500, data['scholarship'])\n",
    "\n",
    "#HOPE 4 Year PT\n",
    "data['scholarship'] = np.where((data['ColType'] == 4) & (data['LotteryScholType'] == '1_HOPE') & (data['FTPTStatus'] == 'PT'), 1750, data['scholarship'])\n",
    "\n",
    "#HOPE 2 Year FT\n",
    "data['scholarship'] = np.where((data['ColType'] == 2) & (data['LotteryScholType'] == '1_HOPE') & (data['FTPTStatus'] == 'FT'), 3000, data['scholarship'])\n",
    "\n",
    "#HOPE 2 Year PT\n",
    "data['scholarship'] = np.where((data['ColType'] == 2) & (data['LotteryScholType'] == '1_HOPE') & (data['FTPTStatus'] == 'PT'), 1500, data['scholarship'])\n",
    "\n",
    "\n",
    "\n",
    "#ASPIRE SCHOLARSHIPS\n",
    "#ASPIRE 4 Year FT\n",
    "data['scholarship'] = np.where((data['ColType'] == 4) & (data['LotteryScholType'] == '3_Aspire') & (data['FTPTStatus'] == 'FT'), 5000, data['scholarship'])\n",
    "\n",
    "#ASPIRE 4 Year PT\n",
    "data['scholarship'] = np.where((data['ColType'] == 4) & (data['LotteryScholType'] == '3_Aspire') & (data['FTPTStatus'] == 'PT'), 2500, data['scholarship'])\n",
    "\n",
    "#ASPIRE 2 Year FT\n",
    "data['scholarship'] = np.where((data['ColType'] == 2) & (data['LotteryScholType'] == '3_Aspire') & (data['FTPTStatus'] == 'FT'), 3500, data['scholarship'])\n",
    "\n",
    "#ASPIRE 2 Year PT\n",
    "data['scholarship'] = np.where((data['ColType'] == 2) & (data['LotteryScholType'] == '3_Aspire') & (data['FTPTStatus'] == 'PT'), 1750, data['scholarship'])\n"
   ]
  },
  {
   "cell_type": "code",
   "execution_count": 12,
   "id": "dd56bece",
   "metadata": {},
   "outputs": [
    {
     "name": "stdout",
     "output_type": "stream",
     "text": [
      "The number of eligible student for ACT scores of 21 or greater is 49187\n",
      "The number of eligible student for ACT scores of 23 or greater is 46467\n",
      "The number of eligible student for ACT scores of 24 or greater is 45740\n",
      "------------------------------------------------------------------------------\n",
      "Increasing the scholarship from 21 to 23 results in a decrease of 5.53% of scholarship eligibility\n",
      "Increasing the scholarship from 21 to 24 results in a decrease of 7.01% of scholarship eligibility\n"
     ]
    }
   ],
   "source": [
    "# eligibility base on 3 ACT scores\n",
    "score1 = 21\n",
    "score2 = 23\n",
    "score3 = 24\n",
    "\n",
    "#filtering by 3 scores\n",
    "actdata1 = data[(data['ACTComposite'] >= score1) | (data['OverallHSGPAGED'] >= 3.00)]\n",
    "actdata2 = data[(data['ACTComposite'] >= score2) | (data['OverallHSGPAGED'] >= 3.00)]\n",
    "actdata3 = data[(data['ACTComposite'] >= score3) | (data['OverallHSGPAGED'] >= 3.00)]\n",
    "\n",
    "#number of eligibile students\n",
    "el1 = len(actdata1)\n",
    "el2 = len(actdata2)\n",
    "el3 = len(actdata3)\n",
    "\n",
    "\n",
    "print(f'The number of eligible student for ACT scores of {score1} or greater is {el1}')\n",
    "print(f'The number of eligible student for ACT scores of {score2} or greater is {el2}')\n",
    "print(f'The number of eligible student for ACT scores of {score3} or greater is {el3}')\n",
    "print('------------------------------------------------------------------------------')\n",
    "print(f'Increasing the scholarship from {score1} to {score2} results in a decrease of {1 - (el2/el1):.2%} of scholarship eligibility')\n",
    "print(f'Increasing the scholarship from {score1} to {score3} results in a decrease of {1 - (el3/el1):.2%} of scholarship eligibility')"
   ]
  },
  {
   "cell_type": "code",
   "execution_count": 13,
   "id": "36b1f15b",
   "metadata": {},
   "outputs": [
    {
     "data": {
      "text/plain": [
       "335"
      ]
     },
     "execution_count": 13,
     "metadata": {},
     "output_type": "execute_result"
    }
   ],
   "source": [
    "#number of ineligible students\n",
    "notel = data[(data['ACTComposite'] < score1) & (data['OverallHSGPAGED'] < 3.00)]\n",
    "len(notel)"
   ]
  },
  {
   "cell_type": "code",
   "execution_count": 14,
   "id": "ac7d50fb",
   "metadata": {},
   "outputs": [
    {
     "name": "stdout",
     "output_type": "stream",
     "text": [
      "Total Scholarship Awards for ACT scores of 21 is $186,499,250\n",
      "Total Scholarship Awards for ACT scores of 23 is $176,425,250\n",
      "Total Scholarship Awards for ACT scores of 24 is $173,735,250\n"
     ]
    }
   ],
   "source": [
    "#Total scholarships offered by ACT Scores\n",
    "totschol21 = actdata1['scholarship'].sum()\n",
    "totschol23 = actdata2['scholarship'].sum()\n",
    "totschol24 = actdata3['scholarship'].sum()\n",
    "\n",
    "print(f'Total Scholarship Awards for ACT scores of {score1} is ${totschol21:,}')\n",
    "print(f'Total Scholarship Awards for ACT scores of {score2} is ${totschol23:,}')\n",
    "print(f'Total Scholarship Awards for ACT scores of {score3} is ${totschol24:,}')"
   ]
  },
  {
   "cell_type": "code",
   "execution_count": 15,
   "id": "193a932d",
   "metadata": {},
   "outputs": [
    {
     "name": "stdout",
     "output_type": "stream",
     "text": [
      " The total savings of changing the ACT from a 21 to a 23 is $10,074,000\n",
      " The total savings of changing the ACT from a 21 to a 24 is $12,764,000\n"
     ]
    }
   ],
   "source": [
    "#Savings amount by scholarship\n",
    "savings23 = totschol21 - totschol23\n",
    "savings24 = totschol21 - totschol24\n",
    "\n",
    "print(f' The total savings of changing the ACT from a {score1} to a {score2} is ${savings23:,}')\n",
    "print(f' The total savings of changing the ACT from a {score1} to a {score3} is ${savings24:,}')"
   ]
  },
  {
   "cell_type": "code",
   "execution_count": 16,
   "id": "ab9e1edc",
   "metadata": {},
   "outputs": [
    {
     "name": "stdout",
     "output_type": "stream",
     "text": [
      " The total savings of changing the ACT from a 21 to a 23 is 5.4%\n",
      " The total savings of changing the ACT from a 21 to a 24 is 6.84%\n"
     ]
    }
   ],
   "source": [
    "#saving percentage by scholarship\n",
    "savings23per = round((savings23/totschol21) *100,2)\n",
    "savings24per = round((savings24/totschol21) *100,2)\n",
    "\n",
    "\n",
    "\n",
    "print(f' The total savings of changing the ACT from a {score1} to a {score2} is {savings23per:,}%')\n",
    "print(f' The total savings of changing the ACT from a {score1} to a {score3} is {savings24per:,}%')"
   ]
  },
  {
   "cell_type": "code",
   "execution_count": 17,
   "id": "2d70b93f",
   "metadata": {},
   "outputs": [
    {
     "data": {
      "text/html": [
       "<div>\n",
       "<style scoped>\n",
       "    .dataframe tbody tr th:only-of-type {\n",
       "        vertical-align: middle;\n",
       "    }\n",
       "\n",
       "    .dataframe tbody tr th {\n",
       "        vertical-align: top;\n",
       "    }\n",
       "\n",
       "    .dataframe thead th {\n",
       "        text-align: right;\n",
       "    }\n",
       "</style>\n",
       "<table border=\"1\" class=\"dataframe\">\n",
       "  <thead>\n",
       "    <tr style=\"text-align: right;\">\n",
       "      <th></th>\n",
       "      <th>LotteryScholType</th>\n",
       "      <th>scholarship21</th>\n",
       "      <th>scholarship23</th>\n",
       "      <th>scholarship24</th>\n",
       "    </tr>\n",
       "  </thead>\n",
       "  <tbody>\n",
       "    <tr>\n",
       "      <th>0</th>\n",
       "      <td>1_HOPE</td>\n",
       "      <td>104685750</td>\n",
       "      <td>98975000</td>\n",
       "      <td>97376500</td>\n",
       "    </tr>\n",
       "    <tr>\n",
       "      <th>1</th>\n",
       "      <td>2_GAMS</td>\n",
       "      <td>14292000</td>\n",
       "      <td>14292000</td>\n",
       "      <td>14292000</td>\n",
       "    </tr>\n",
       "    <tr>\n",
       "      <th>2</th>\n",
       "      <td>3_Aspire</td>\n",
       "      <td>67521500</td>\n",
       "      <td>63158250</td>\n",
       "      <td>62066750</td>\n",
       "    </tr>\n",
       "  </tbody>\n",
       "</table>\n",
       "</div>"
      ],
      "text/plain": [
       "  LotteryScholType  scholarship21  scholarship23  scholarship24\n",
       "0           1_HOPE      104685750       98975000       97376500\n",
       "1           2_GAMS       14292000       14292000       14292000\n",
       "2         3_Aspire       67521500       63158250       62066750"
      ]
     },
     "execution_count": 17,
     "metadata": {},
     "output_type": "execute_result"
    }
   ],
   "source": [
    "# Scholarship type by ACT scores\n",
    "\n",
    "schol1 = actdata1.groupby(['LotteryScholType'])['scholarship'].sum().reset_index()\n",
    "schol1 = schol1.rename(columns = {'scholarship' : 'scholarship' + str(score1)})\n",
    "\n",
    "schol2 = actdata2.groupby(['LotteryScholType'])['scholarship'].sum().reset_index()\n",
    "schol2 = schol2.rename(columns = {'scholarship' : 'scholarship' + str(score2)})\n",
    "\n",
    "schol3 = actdata3.groupby(['LotteryScholType'])['scholarship'].sum().reset_index()\n",
    "schol3 = schol3.rename(columns = {'scholarship' : 'scholarship' + str(score3)})\n",
    "\n",
    "final = schol1.merge(schol2, how='left', on = 'LotteryScholType')\n",
    "final = final.merge(schol3, how='left', on = 'LotteryScholType')\n",
    "\n",
    "styles = final.copy()\n",
    "styles = styles.style.format({'scholarship21' : '{:,}', 'scholarship23' : '{:,}', 'scholarship24' : '{:,}'})\n",
    "final"
   ]
  },
  {
   "cell_type": "code",
   "execution_count": 18,
   "id": "fd5f6ff2",
   "metadata": {},
   "outputs": [
    {
     "data": {
      "text/html": [
       "<div>\n",
       "<style scoped>\n",
       "    .dataframe tbody tr th:only-of-type {\n",
       "        vertical-align: middle;\n",
       "    }\n",
       "\n",
       "    .dataframe tbody tr th {\n",
       "        vertical-align: top;\n",
       "    }\n",
       "\n",
       "    .dataframe thead th {\n",
       "        text-align: right;\n",
       "    }\n",
       "</style>\n",
       "<table border=\"1\" class=\"dataframe\">\n",
       "  <thead>\n",
       "    <tr style=\"text-align: right;\">\n",
       "      <th>LotteryScholType</th>\n",
       "      <th>index</th>\n",
       "      <th>1_HOPE</th>\n",
       "      <th>2_GAMS</th>\n",
       "      <th>3_Aspire</th>\n",
       "    </tr>\n",
       "  </thead>\n",
       "  <tbody>\n",
       "    <tr>\n",
       "      <th>0</th>\n",
       "      <td>scholarship21</td>\n",
       "      <td>104685750</td>\n",
       "      <td>14292000</td>\n",
       "      <td>67521500</td>\n",
       "    </tr>\n",
       "    <tr>\n",
       "      <th>1</th>\n",
       "      <td>scholarship23</td>\n",
       "      <td>98975000</td>\n",
       "      <td>14292000</td>\n",
       "      <td>63158250</td>\n",
       "    </tr>\n",
       "    <tr>\n",
       "      <th>2</th>\n",
       "      <td>scholarship24</td>\n",
       "      <td>97376500</td>\n",
       "      <td>14292000</td>\n",
       "      <td>62066750</td>\n",
       "    </tr>\n",
       "  </tbody>\n",
       "</table>\n",
       "</div>"
      ],
      "text/plain": [
       "LotteryScholType          index     1_HOPE    2_GAMS  3_Aspire\n",
       "0                 scholarship21  104685750  14292000  67521500\n",
       "1                 scholarship23   98975000  14292000  63158250\n",
       "2                 scholarship24   97376500  14292000  62066750"
      ]
     },
     "execution_count": 18,
     "metadata": {},
     "output_type": "execute_result"
    }
   ],
   "source": [
    "#manipulating final df for data visualization\n",
    "final = final.transpose()\n",
    "final.columns = final.iloc[0]\n",
    "final = final.iloc[1:]\n",
    "final = final.reset_index()\n",
    "final"
   ]
  },
  {
   "cell_type": "code",
   "execution_count": 19,
   "id": "966f6943",
   "metadata": {},
   "outputs": [
    {
     "data": {
      "text/plain": [
       "(array([0, 1, 2]), [Text(0, 0, '21'), Text(1, 0, '23'), Text(2, 0, '24')])"
      ]
     },
     "execution_count": 19,
     "metadata": {},
     "output_type": "execute_result"
    },
    {
     "data": {
      "image/png": "[encoded data removed]",
      "text/plain": [
       "<Figure size 648x360 with 1 Axes>"
      ]
     },
     "metadata": {
      "needs_background": "light"
     },
     "output_type": "display_data"
    }
   ],
   "source": [
    "#visualization of scholarship amounts\n",
    "ax =final.set_index('index').plot(kind='bar', stacked=True)\n",
    "\n",
    "#overall title\n",
    "plt.title('Scholarship Amount by ACT Scores', fontsize=16)\n",
    "\n",
    "# add axis titles\n",
    "plt.xlabel('ACT Scores')\n",
    "plt.ylabel('Scholarship Award (in 100 millions)')\n",
    "\n",
    "#legend\n",
    "plt.legend(['Hope','Gams','Aspire'],title='Scholarship Type', bbox_to_anchor=(1.02, 1), loc='upper left', borderaxespad=0)\n",
    "\n",
    "#changing column labels\n",
    "ax.set_xticklabels(['21','23','24'])\n",
    "\n",
    "#rotate axis\n",
    "plt.xticks(rotation=0)"
   ]
  },
  {
   "cell_type": "code",
   "execution_count": 20,
   "id": "46596417",
   "metadata": {},
   "outputs": [],
   "source": [
    "#creating a function to evaluate normalized value counts of each column\n",
    "def breakdown(col):\n",
    "    \n",
    "    a = actdata1[col].value_counts(normalize=True).reset_index()\n",
    "    a = a.rename(columns = {col : col + str(score1)})\n",
    "    \n",
    "    b = actdata2[col].value_counts(normalize=True).reset_index()\n",
    "    b = b.rename(columns = {col : col + str(score2)})\n",
    "    \n",
    "    c = actdata3[col].value_counts(normalize=True).reset_index()\n",
    "    c = c.rename(columns = {col : col + str(score3)})\n",
    "    \n",
    "    final = a.merge(b, how = 'left', on='index')\n",
    "    final = final.merge(c, how = 'left', on='index')\n",
    "    return(final)"
   ]
  },
  {
   "cell_type": "code",
   "execution_count": 21,
   "id": "81c122e6",
   "metadata": {},
   "outputs": [],
   "source": [
    "#applying function by to each column \n",
    "a = {}\n",
    "for i in data.columns:\n",
    "    a[i] = breakdown(i)"
   ]
  },
  {
   "cell_type": "code",
   "execution_count": 22,
   "id": "66a6dae7",
   "metadata": {},
   "outputs": [
    {
     "data": {
      "text/html": [
       "<div>\n",
       "<style scoped>\n",
       "    .dataframe tbody tr th:only-of-type {\n",
       "        vertical-align: middle;\n",
       "    }\n",
       "\n",
       "    .dataframe tbody tr th {\n",
       "        vertical-align: top;\n",
       "    }\n",
       "\n",
       "    .dataframe thead th {\n",
       "        text-align: right;\n",
       "    }\n",
       "</style>\n",
       "<table border=\"1\" class=\"dataframe\">\n",
       "  <thead>\n",
       "    <tr style=\"text-align: right;\">\n",
       "      <th></th>\n",
       "      <th>index</th>\n",
       "      <th>SystemName21</th>\n",
       "      <th>SystemName23</th>\n",
       "      <th>SystemName24</th>\n",
       "      <th>per_diff (24-21)</th>\n",
       "    </tr>\n",
       "  </thead>\n",
       "  <tbody>\n",
       "    <tr>\n",
       "      <th>0</th>\n",
       "      <td>LGI Universities</td>\n",
       "      <td>33.59%</td>\n",
       "      <td>33.24%</td>\n",
       "      <td>33.14%</td>\n",
       "      <td>-0.45%</td>\n",
       "    </tr>\n",
       "    <tr>\n",
       "      <th>1</th>\n",
       "      <td>University of Tennessee</td>\n",
       "      <td>27.8%</td>\n",
       "      <td>28.44%</td>\n",
       "      <td>28.59%</td>\n",
       "      <td>0.79%</td>\n",
       "    </tr>\n",
       "    <tr>\n",
       "      <th>2</th>\n",
       "      <td>TBR Community Colleges</td>\n",
       "      <td>22.67%</td>\n",
       "      <td>22.07%</td>\n",
       "      <td>21.97%</td>\n",
       "      <td>-0.71%</td>\n",
       "    </tr>\n",
       "    <tr>\n",
       "      <th>3</th>\n",
       "      <td>Independent Colleges &amp; Universities</td>\n",
       "      <td>15.93%</td>\n",
       "      <td>16.25%</td>\n",
       "      <td>16.31%</td>\n",
       "      <td>0.37%</td>\n",
       "    </tr>\n",
       "  </tbody>\n",
       "</table>\n",
       "</div>"
      ],
      "text/plain": [
       "                                 index SystemName21 SystemName23 SystemName24  \\\n",
       "0                     LGI Universities       33.59%       33.24%       33.14%   \n",
       "1              University of Tennessee        27.8%       28.44%       28.59%   \n",
       "2               TBR Community Colleges       22.67%       22.07%       21.97%   \n",
       "3  Independent Colleges & Universities       15.93%       16.25%       16.31%   \n",
       "\n",
       "  per_diff (24-21)  \n",
       "0           -0.45%  \n",
       "1            0.79%  \n",
       "2           -0.71%  \n",
       "3            0.37%  "
      ]
     },
     "execution_count": 22,
     "metadata": {},
     "output_type": "execute_result"
    }
   ],
   "source": [
    "#normalized breakdown of systemname by ACT scores\n",
    "system = a['SystemName']\n",
    "system['per_diff (24-21)'] = system['SystemName24'] - system['SystemName21']\n",
    "system = system.set_index('index')\n",
    "system = system.mul(100).round(2).astype(str).add('%')\n",
    "system = system.reset_index()\n",
    "system"
   ]
  },
  {
   "cell_type": "code",
   "execution_count": 23,
   "id": "5b854a48",
   "metadata": {},
   "outputs": [
    {
     "data": {
      "text/html": [
       "<div>\n",
       "<style scoped>\n",
       "    .dataframe tbody tr th:only-of-type {\n",
       "        vertical-align: middle;\n",
       "    }\n",
       "\n",
       "    .dataframe tbody tr th {\n",
       "        vertical-align: top;\n",
       "    }\n",
       "\n",
       "    .dataframe thead th {\n",
       "        text-align: right;\n",
       "    }\n",
       "</style>\n",
       "<table border=\"1\" class=\"dataframe\">\n",
       "  <thead>\n",
       "    <tr style=\"text-align: right;\">\n",
       "      <th></th>\n",
       "      <th>index</th>\n",
       "      <th>LotteryScholType21</th>\n",
       "      <th>LotteryScholType23</th>\n",
       "      <th>LotteryScholType24</th>\n",
       "      <th>per_diff (24-21)</th>\n",
       "    </tr>\n",
       "  </thead>\n",
       "  <tbody>\n",
       "    <tr>\n",
       "      <th>0</th>\n",
       "      <td>1_HOPE</td>\n",
       "      <td>63.5%</td>\n",
       "      <td>63.47%</td>\n",
       "      <td>63.43%</td>\n",
       "      <td>-0.07%</td>\n",
       "    </tr>\n",
       "    <tr>\n",
       "      <th>1</th>\n",
       "      <td>3_Aspire</td>\n",
       "      <td>30.01%</td>\n",
       "      <td>29.67%</td>\n",
       "      <td>29.6%</td>\n",
       "      <td>-0.41%</td>\n",
       "    </tr>\n",
       "    <tr>\n",
       "      <th>2</th>\n",
       "      <td>2_GAMS</td>\n",
       "      <td>6.49%</td>\n",
       "      <td>6.87%</td>\n",
       "      <td>6.97%</td>\n",
       "      <td>0.49%</td>\n",
       "    </tr>\n",
       "  </tbody>\n",
       "</table>\n",
       "</div>"
      ],
      "text/plain": [
       "      index LotteryScholType21 LotteryScholType23 LotteryScholType24  \\\n",
       "0    1_HOPE              63.5%             63.47%             63.43%   \n",
       "1  3_Aspire             30.01%             29.67%              29.6%   \n",
       "2    2_GAMS              6.49%              6.87%              6.97%   \n",
       "\n",
       "  per_diff (24-21)  \n",
       "0           -0.07%  \n",
       "1           -0.41%  \n",
       "2            0.49%  "
      ]
     },
     "execution_count": 23,
     "metadata": {},
     "output_type": "execute_result"
    }
   ],
   "source": [
    "#normalized breakdown of lotteryschool type by ACT scores\n",
    "schooltype = a['LotteryScholType'] \n",
    "schooltype['per_diff (24-21)'] = schooltype['LotteryScholType24'] - schooltype['LotteryScholType21'] \n",
    "schooltype = schooltype.set_index('index')\n",
    "schooltype = schooltype.mul(100).round(2).astype(str).add('%')\n",
    "schooltype = schooltype.reset_index()\n",
    "schooltype"
   ]
  },
  {
   "cell_type": "code",
   "execution_count": 24,
   "id": "6979079e",
   "metadata": {},
   "outputs": [
    {
     "data": {
      "text/html": [
       "<div>\n",
       "<style scoped>\n",
       "    .dataframe tbody tr th:only-of-type {\n",
       "        vertical-align: middle;\n",
       "    }\n",
       "\n",
       "    .dataframe tbody tr th {\n",
       "        vertical-align: top;\n",
       "    }\n",
       "\n",
       "    .dataframe thead th {\n",
       "        text-align: right;\n",
       "    }\n",
       "</style>\n",
       "<table border=\"1\" class=\"dataframe\">\n",
       "  <thead>\n",
       "    <tr style=\"text-align: right;\">\n",
       "      <th></th>\n",
       "      <th>index</th>\n",
       "      <th>Gender21</th>\n",
       "      <th>Gender23</th>\n",
       "      <th>Gender24</th>\n",
       "      <th>per_diff (24-21)</th>\n",
       "    </tr>\n",
       "  </thead>\n",
       "  <tbody>\n",
       "    <tr>\n",
       "      <th>0</th>\n",
       "      <td>F</td>\n",
       "      <td>56.58%</td>\n",
       "      <td>57.65%</td>\n",
       "      <td>58.03%</td>\n",
       "      <td>1.45%</td>\n",
       "    </tr>\n",
       "    <tr>\n",
       "      <th>1</th>\n",
       "      <td>M</td>\n",
       "      <td>43.42%</td>\n",
       "      <td>42.35%</td>\n",
       "      <td>41.97%</td>\n",
       "      <td>-1.45%</td>\n",
       "    </tr>\n",
       "  </tbody>\n",
       "</table>\n",
       "</div>"
      ],
      "text/plain": [
       "  index Gender21 Gender23 Gender24 per_diff (24-21)\n",
       "0     F   56.58%   57.65%   58.03%            1.45%\n",
       "1     M   43.42%   42.35%   41.97%           -1.45%"
      ]
     },
     "execution_count": 24,
     "metadata": {},
     "output_type": "execute_result"
    }
   ],
   "source": [
    "#normalized breakdown of gender by ACT scores\n",
    "gender = a['Gender']\n",
    "gender['per_diff (24-21)'] = gender['Gender24'] - gender['Gender21']\n",
    "gender = gender.set_index('index')\n",
    "gender = gender.mul(100).round(2).astype(str).add('%')\n",
    "gender = gender.reset_index()\n",
    "gender"
   ]
  },
  {
   "cell_type": "code",
   "execution_count": 25,
   "id": "89c7b02e",
   "metadata": {},
   "outputs": [
    {
     "data": {
      "text/html": [
       "<div>\n",
       "<style scoped>\n",
       "    .dataframe tbody tr th:only-of-type {\n",
       "        vertical-align: middle;\n",
       "    }\n",
       "\n",
       "    .dataframe tbody tr th {\n",
       "        vertical-align: top;\n",
       "    }\n",
       "\n",
       "    .dataframe thead th {\n",
       "        text-align: right;\n",
       "    }\n",
       "</style>\n",
       "<table border=\"1\" class=\"dataframe\">\n",
       "  <thead>\n",
       "    <tr style=\"text-align: right;\">\n",
       "      <th></th>\n",
       "      <th>index</th>\n",
       "      <th>ACT Score</th>\n",
       "      <th>Distribution %</th>\n",
       "    </tr>\n",
       "  </thead>\n",
       "  <tbody>\n",
       "    <tr>\n",
       "      <th>0</th>\n",
       "      <td>F</td>\n",
       "      <td>21</td>\n",
       "      <td>56.58</td>\n",
       "    </tr>\n",
       "    <tr>\n",
       "      <th>1</th>\n",
       "      <td>M</td>\n",
       "      <td>21</td>\n",
       "      <td>43.42</td>\n",
       "    </tr>\n",
       "    <tr>\n",
       "      <th>2</th>\n",
       "      <td>F</td>\n",
       "      <td>23</td>\n",
       "      <td>57.65</td>\n",
       "    </tr>\n",
       "    <tr>\n",
       "      <th>3</th>\n",
       "      <td>M</td>\n",
       "      <td>23</td>\n",
       "      <td>42.35</td>\n",
       "    </tr>\n",
       "    <tr>\n",
       "      <th>4</th>\n",
       "      <td>F</td>\n",
       "      <td>24</td>\n",
       "      <td>58.03</td>\n",
       "    </tr>\n",
       "    <tr>\n",
       "      <th>5</th>\n",
       "      <td>M</td>\n",
       "      <td>24</td>\n",
       "      <td>41.97</td>\n",
       "    </tr>\n",
       "  </tbody>\n",
       "</table>\n",
       "</div>"
      ],
      "text/plain": [
       "  index  ACT Score  Distribution %\n",
       "0     F         21           56.58\n",
       "1     M         21           43.42\n",
       "2     F         23           57.65\n",
       "3     M         23           42.35\n",
       "4     F         24           58.03\n",
       "5     M         24           41.97"
      ]
     },
     "execution_count": 25,
     "metadata": {},
     "output_type": "execute_result"
    }
   ],
   "source": [
    "#manipulating for visualization\n",
    "gender1 = gender.copy()\n",
    "gender1 = gender1.rename(columns={'Gender21': 21, 'Gender23':23, 'Gender24':24})\n",
    "gender1 = gender1.drop(['per_diff (24-21)'], axis=1) \n",
    "gender1 = gender1.melt(id_vars='index', value_name='Distribution %', var_name='ACT Score')\n",
    "gender1['ACT Score'] = pd.to_numeric(gender1['ACT Score'])\n",
    "gender1['Distribution %'] = gender1['Distribution %'].str.strip('%')\n",
    "gender1['Distribution %'] = pd.to_numeric(gender1['Distribution %'])\n",
    "gender1"
   ]
  },
  {
   "cell_type": "code",
   "execution_count": 26,
   "id": "efb4a5c6",
   "metadata": {},
   "outputs": [
    {
     "data": {
      "text/plain": [
       "Text(0.5, 0, 'Gender')"
      ]
     },
     "execution_count": 26,
     "metadata": {},
     "output_type": "execute_result"
    },
    {
     "data": {
      "image/png": "[encoded data removed]",
      "text/plain": [
       "<Figure size 648x360 with 1 Axes>"
      ]
     },
     "metadata": {
      "needs_background": "light"
     },
     "output_type": "display_data"
    }
   ],
   "source": [
    "#gender distribution percentage visualization by ACT score\n",
    "ax = sns.barplot(data=gender1, x='index', y = 'Distribution %', hue='ACT Score')\n",
    "\n",
    "#overall title\n",
    "plt.title('Gender Distribution of Scholarships by ACT Score', fontsize=16)\n",
    "\n",
    "#moving legend\n",
    "plt.legend(title = 'ACT Score', bbox_to_anchor=(1.02, 1), loc='upper left', borderaxespad=0)\n",
    "\n",
    "#changing label\n",
    "plt.xlabel('Gender')"
   ]
  },
  {
   "cell_type": "code",
   "execution_count": 27,
   "id": "f740c8a6",
   "metadata": {},
   "outputs": [
    {
     "name": "stderr",
     "output_type": "stream",
     "text": [
      "/home/chase/anaconda3/lib/python3.9/site-packages/seaborn/categorical.py:3717: UserWarning: The `factorplot` function has been renamed to `catplot`. The original name will be removed in a future release. Please update your code. Note that the default `kind` in `factorplot` (`'point'`) has changed `'strip'` in `catplot`.\n",
      "  warnings.warn(msg)\n",
      "/home/chase/anaconda3/lib/python3.9/site-packages/seaborn/_decorators.py:36: FutureWarning: Pass the following variables as keyword args: x, y. From version 0.12, the only valid positional argument will be `data`, and passing other arguments without an explicit keyword will result in an error or misinterpretation.\n",
      "  warnings.warn(\n"
     ]
    },
    {
     "data": {
      "image/png": "[encoded data removed]",
      "text/plain": [
       "<Figure size 1080x360 with 3 Axes>"
      ]
     },
     "metadata": {
      "needs_background": "light"
     },
     "output_type": "display_data"
    }
   ],
   "source": [
    "b = sns.factorplot('index', 'Distribution %', col='ACT Score', data=gender1, kind='bar')"
   ]
  },
  {
   "cell_type": "code",
   "execution_count": 28,
   "id": "60128f7a",
   "metadata": {},
   "outputs": [
    {
     "data": {
      "text/html": [
       "<div>\n",
       "<style scoped>\n",
       "    .dataframe tbody tr th:only-of-type {\n",
       "        vertical-align: middle;\n",
       "    }\n",
       "\n",
       "    .dataframe tbody tr th {\n",
       "        vertical-align: top;\n",
       "    }\n",
       "\n",
       "    .dataframe thead th {\n",
       "        text-align: right;\n",
       "    }\n",
       "</style>\n",
       "<table border=\"1\" class=\"dataframe\">\n",
       "  <thead>\n",
       "    <tr style=\"text-align: right;\">\n",
       "      <th></th>\n",
       "      <th>index</th>\n",
       "      <th>RaceName21</th>\n",
       "      <th>RaceName23</th>\n",
       "      <th>RaceName24</th>\n",
       "      <th>per_diff (24-21)</th>\n",
       "    </tr>\n",
       "  </thead>\n",
       "  <tbody>\n",
       "    <tr>\n",
       "      <th>0</th>\n",
       "      <td>White, Not Hispanic</td>\n",
       "      <td>78.62%</td>\n",
       "      <td>78.9%</td>\n",
       "      <td>78.9%</td>\n",
       "      <td>0.28%</td>\n",
       "    </tr>\n",
       "    <tr>\n",
       "      <th>1</th>\n",
       "      <td>Black, Not Hispanic</td>\n",
       "      <td>11.79%</td>\n",
       "      <td>11.56%</td>\n",
       "      <td>11.55%</td>\n",
       "      <td>-0.24%</td>\n",
       "    </tr>\n",
       "    <tr>\n",
       "      <th>2</th>\n",
       "      <td>Hispanic</td>\n",
       "      <td>2.83%</td>\n",
       "      <td>2.81%</td>\n",
       "      <td>2.81%</td>\n",
       "      <td>-0.02%</td>\n",
       "    </tr>\n",
       "    <tr>\n",
       "      <th>3</th>\n",
       "      <td>MultiRacial</td>\n",
       "      <td>2.38%</td>\n",
       "      <td>2.32%</td>\n",
       "      <td>2.3%</td>\n",
       "      <td>-0.08%</td>\n",
       "    </tr>\n",
       "    <tr>\n",
       "      <th>4</th>\n",
       "      <td>Unknown</td>\n",
       "      <td>2.28%</td>\n",
       "      <td>2.29%</td>\n",
       "      <td>2.3%</td>\n",
       "      <td>0.01%</td>\n",
       "    </tr>\n",
       "    <tr>\n",
       "      <th>5</th>\n",
       "      <td>Asian or Pacific Islander</td>\n",
       "      <td>1.88%</td>\n",
       "      <td>1.92%</td>\n",
       "      <td>1.93%</td>\n",
       "      <td>0.05%</td>\n",
       "    </tr>\n",
       "    <tr>\n",
       "      <th>6</th>\n",
       "      <td>American Indian</td>\n",
       "      <td>0.2%</td>\n",
       "      <td>0.19%</td>\n",
       "      <td>0.19%</td>\n",
       "      <td>-0.0%</td>\n",
       "    </tr>\n",
       "    <tr>\n",
       "      <th>7</th>\n",
       "      <td>Alaskan Native</td>\n",
       "      <td>0.01%</td>\n",
       "      <td>0.01%</td>\n",
       "      <td>0.01%</td>\n",
       "      <td>0.0%</td>\n",
       "    </tr>\n",
       "  </tbody>\n",
       "</table>\n",
       "</div>"
      ],
      "text/plain": [
       "                       index RaceName21 RaceName23 RaceName24 per_diff (24-21)\n",
       "0        White, Not Hispanic     78.62%      78.9%      78.9%            0.28%\n",
       "1        Black, Not Hispanic     11.79%     11.56%     11.55%           -0.24%\n",
       "2                   Hispanic      2.83%      2.81%      2.81%           -0.02%\n",
       "3                MultiRacial      2.38%      2.32%       2.3%           -0.08%\n",
       "4                    Unknown      2.28%      2.29%       2.3%            0.01%\n",
       "5  Asian or Pacific Islander      1.88%      1.92%      1.93%            0.05%\n",
       "6            American Indian       0.2%      0.19%      0.19%            -0.0%\n",
       "7             Alaskan Native      0.01%      0.01%      0.01%             0.0%"
      ]
     },
     "execution_count": 28,
     "metadata": {},
     "output_type": "execute_result"
    }
   ],
   "source": [
    "#normalized breakdown of race by ACT scores\n",
    "race = a['RaceName']\n",
    "race['per_diff (24-21)'] = race['RaceName24'] - race['RaceName21']\n",
    "race = race.set_index('index')\n",
    "race = race.mul(100).round(2).astype(str).add('%')\n",
    "race = race.reset_index()\n",
    "race"
   ]
  },
  {
   "cell_type": "code",
   "execution_count": 29,
   "id": "87e942a3",
   "metadata": {},
   "outputs": [
    {
     "data": {
      "text/html": [
       "<div>\n",
       "<style scoped>\n",
       "    .dataframe tbody tr th:only-of-type {\n",
       "        vertical-align: middle;\n",
       "    }\n",
       "\n",
       "    .dataframe tbody tr th {\n",
       "        vertical-align: top;\n",
       "    }\n",
       "\n",
       "    .dataframe thead th {\n",
       "        text-align: right;\n",
       "    }\n",
       "</style>\n",
       "<table border=\"1\" class=\"dataframe\">\n",
       "  <thead>\n",
       "    <tr style=\"text-align: right;\">\n",
       "      <th></th>\n",
       "      <th>index</th>\n",
       "      <th>FTPTStatus21</th>\n",
       "      <th>FTPTStatus23</th>\n",
       "      <th>FTPTStatus24</th>\n",
       "      <th>per_diff (24-21)</th>\n",
       "    </tr>\n",
       "  </thead>\n",
       "  <tbody>\n",
       "    <tr>\n",
       "      <th>0</th>\n",
       "      <td>FT</td>\n",
       "      <td>97.99%</td>\n",
       "      <td>98.07%</td>\n",
       "      <td>98.08%</td>\n",
       "      <td>0.1%</td>\n",
       "    </tr>\n",
       "    <tr>\n",
       "      <th>1</th>\n",
       "      <td>PT</td>\n",
       "      <td>2.01%</td>\n",
       "      <td>1.93%</td>\n",
       "      <td>1.92%</td>\n",
       "      <td>-0.1%</td>\n",
       "    </tr>\n",
       "  </tbody>\n",
       "</table>\n",
       "</div>"
      ],
      "text/plain": [
       "  index FTPTStatus21 FTPTStatus23 FTPTStatus24 per_diff (24-21)\n",
       "0    FT       97.99%       98.07%       98.08%             0.1%\n",
       "1    PT        2.01%        1.93%        1.92%            -0.1%"
      ]
     },
     "execution_count": 29,
     "metadata": {},
     "output_type": "execute_result"
    }
   ],
   "source": [
    "#normalized breakdown of FT-PT status by ACT scores\n",
    "status = a['FTPTStatus']\n",
    "status['per_diff (24-21)'] = status['FTPTStatus24'] - status['FTPTStatus21']\n",
    "status = status.set_index('index')\n",
    "status = status.mul(100).round(2).astype(str).add('%')\n",
    "status = status.reset_index()\n",
    "status"
   ]
  },
  {
   "cell_type": "code",
   "execution_count": 30,
   "id": "d51e9e55",
   "metadata": {},
   "outputs": [
    {
     "data": {
      "text/html": [
       "<div>\n",
       "<style scoped>\n",
       "    .dataframe tbody tr th:only-of-type {\n",
       "        vertical-align: middle;\n",
       "    }\n",
       "\n",
       "    .dataframe tbody tr th {\n",
       "        vertical-align: top;\n",
       "    }\n",
       "\n",
       "    .dataframe thead th {\n",
       "        text-align: right;\n",
       "    }\n",
       "</style>\n",
       "<table border=\"1\" class=\"dataframe\">\n",
       "  <thead>\n",
       "    <tr style=\"text-align: right;\">\n",
       "      <th></th>\n",
       "      <th>index</th>\n",
       "      <th>AGICategory21</th>\n",
       "      <th>AGICategory23</th>\n",
       "      <th>AGICategory24</th>\n",
       "      <th>per_diff (24-21)</th>\n",
       "    </tr>\n",
       "  </thead>\n",
       "  <tbody>\n",
       "    <tr>\n",
       "      <th>0</th>\n",
       "      <td>$96,001orAbove</td>\n",
       "      <td>28.83%</td>\n",
       "      <td>29.1%</td>\n",
       "      <td>29.17%</td>\n",
       "      <td>0.34%</td>\n",
       "    </tr>\n",
       "    <tr>\n",
       "      <th>1</th>\n",
       "      <td>$12,001to$24,000</td>\n",
       "      <td>10.21%</td>\n",
       "      <td>10.11%</td>\n",
       "      <td>10.12%</td>\n",
       "      <td>-0.09%</td>\n",
       "    </tr>\n",
       "    <tr>\n",
       "      <th>2</th>\n",
       "      <td>$24,001to$36,000</td>\n",
       "      <td>9.99%</td>\n",
       "      <td>9.88%</td>\n",
       "      <td>9.88%</td>\n",
       "      <td>-0.11%</td>\n",
       "    </tr>\n",
       "    <tr>\n",
       "      <th>3</th>\n",
       "      <td>$36,001to$48,000</td>\n",
       "      <td>8.68%</td>\n",
       "      <td>8.64%</td>\n",
       "      <td>8.64%</td>\n",
       "      <td>-0.04%</td>\n",
       "    </tr>\n",
       "    <tr>\n",
       "      <th>4</th>\n",
       "      <td>$48,001to$60,000</td>\n",
       "      <td>8.21%</td>\n",
       "      <td>8.2%</td>\n",
       "      <td>8.2%</td>\n",
       "      <td>-0.01%</td>\n",
       "    </tr>\n",
       "    <tr>\n",
       "      <th>5</th>\n",
       "      <td>$60,001to$72,000</td>\n",
       "      <td>8.05%</td>\n",
       "      <td>8.12%</td>\n",
       "      <td>8.11%</td>\n",
       "      <td>0.06%</td>\n",
       "    </tr>\n",
       "    <tr>\n",
       "      <th>6</th>\n",
       "      <td>$72,001to$84,000</td>\n",
       "      <td>7.7%</td>\n",
       "      <td>7.72%</td>\n",
       "      <td>7.71%</td>\n",
       "      <td>0.02%</td>\n",
       "    </tr>\n",
       "    <tr>\n",
       "      <th>7</th>\n",
       "      <td>$84,001to$96,000</td>\n",
       "      <td>7.15%</td>\n",
       "      <td>7.2%</td>\n",
       "      <td>7.22%</td>\n",
       "      <td>0.08%</td>\n",
       "    </tr>\n",
       "    <tr>\n",
       "      <th>8</th>\n",
       "      <td>$12,000orLess</td>\n",
       "      <td>6.07%</td>\n",
       "      <td>6.02%</td>\n",
       "      <td>5.97%</td>\n",
       "      <td>-0.09%</td>\n",
       "    </tr>\n",
       "    <tr>\n",
       "      <th>9</th>\n",
       "      <td>Unknown</td>\n",
       "      <td>5.13%</td>\n",
       "      <td>5.02%</td>\n",
       "      <td>4.98%</td>\n",
       "      <td>-0.16%</td>\n",
       "    </tr>\n",
       "  </tbody>\n",
       "</table>\n",
       "</div>"
      ],
      "text/plain": [
       "              index AGICategory21 AGICategory23 AGICategory24 per_diff (24-21)\n",
       "0    $96,001orAbove        28.83%         29.1%        29.17%            0.34%\n",
       "1  $12,001to$24,000        10.21%        10.11%        10.12%           -0.09%\n",
       "2  $24,001to$36,000         9.99%         9.88%         9.88%           -0.11%\n",
       "3  $36,001to$48,000         8.68%         8.64%         8.64%           -0.04%\n",
       "4  $48,001to$60,000         8.21%          8.2%          8.2%           -0.01%\n",
       "5  $60,001to$72,000         8.05%         8.12%         8.11%            0.06%\n",
       "6  $72,001to$84,000          7.7%         7.72%         7.71%            0.02%\n",
       "7  $84,001to$96,000         7.15%          7.2%         7.22%            0.08%\n",
       "8     $12,000orLess         6.07%         6.02%         5.97%           -0.09%\n",
       "9           Unknown         5.13%         5.02%         4.98%           -0.16%"
      ]
     },
     "execution_count": 30,
     "metadata": {},
     "output_type": "execute_result"
    }
   ],
   "source": [
    "#normalized by family income by ACT scores\n",
    "income = a['AGICategory'] \n",
    "income['per_diff (24-21)'] = income['AGICategory24'] - income['AGICategory21']\n",
    "income = income.set_index('index')\n",
    "income = income.mul(100).round(2).astype(str).add('%')\n",
    "income = income.reset_index()\n",
    "income"
   ]
  },
  {
   "cell_type": "code",
   "execution_count": 31,
   "id": "942ba2ea",
   "metadata": {},
   "outputs": [
    {
     "data": {
      "text/html": [
       "<div>\n",
       "<style scoped>\n",
       "    .dataframe tbody tr th:only-of-type {\n",
       "        vertical-align: middle;\n",
       "    }\n",
       "\n",
       "    .dataframe tbody tr th {\n",
       "        vertical-align: top;\n",
       "    }\n",
       "\n",
       "    .dataframe thead th {\n",
       "        text-align: right;\n",
       "    }\n",
       "</style>\n",
       "<table border=\"1\" class=\"dataframe\">\n",
       "  <thead>\n",
       "    <tr style=\"text-align: right;\">\n",
       "      <th></th>\n",
       "      <th>index</th>\n",
       "      <th>PellEligible21</th>\n",
       "      <th>PellEligible23</th>\n",
       "      <th>PellEligible24</th>\n",
       "      <th>per_diff (24-21)</th>\n",
       "    </tr>\n",
       "  </thead>\n",
       "  <tbody>\n",
       "    <tr>\n",
       "      <th>0</th>\n",
       "      <td>0</td>\n",
       "      <td>55.6%</td>\n",
       "      <td>56.01%</td>\n",
       "      <td>56.07%</td>\n",
       "      <td>0.47%</td>\n",
       "    </tr>\n",
       "    <tr>\n",
       "      <th>1</th>\n",
       "      <td>1</td>\n",
       "      <td>44.4%</td>\n",
       "      <td>43.99%</td>\n",
       "      <td>43.93%</td>\n",
       "      <td>-0.47%</td>\n",
       "    </tr>\n",
       "  </tbody>\n",
       "</table>\n",
       "</div>"
      ],
      "text/plain": [
       "   index PellEligible21 PellEligible23 PellEligible24 per_diff (24-21)\n",
       "0      0          55.6%         56.01%         56.07%            0.47%\n",
       "1      1          44.4%         43.99%         43.93%           -0.47%"
      ]
     },
     "execution_count": 31,
     "metadata": {},
     "output_type": "execute_result"
    }
   ],
   "source": [
    "#normalized by Pell Eligibility by ACT scores\n",
    "pell = a['PellEligible'] \n",
    "pell['per_diff (24-21)'] = pell['PellEligible24'] - pell['PellEligible21']\n",
    "pell = pell.set_index('index')\n",
    "pell = pell.mul(100).round(2).astype(str).add('%')\n",
    "pell = pell.reset_index()\n",
    "pell"
   ]
  },
  {
   "cell_type": "code",
   "execution_count": 32,
   "id": "fc2adab8",
   "metadata": {},
   "outputs": [
    {
     "data": {
      "text/html": [
       "<div>\n",
       "<style scoped>\n",
       "    .dataframe tbody tr th:only-of-type {\n",
       "        vertical-align: middle;\n",
       "    }\n",
       "\n",
       "    .dataframe tbody tr th {\n",
       "        vertical-align: top;\n",
       "    }\n",
       "\n",
       "    .dataframe thead th {\n",
       "        text-align: right;\n",
       "    }\n",
       "</style>\n",
       "<table border=\"1\" class=\"dataframe\">\n",
       "  <thead>\n",
       "    <tr style=\"text-align: right;\">\n",
       "      <th></th>\n",
       "      <th>index</th>\n",
       "      <th>ParentEd21</th>\n",
       "      <th>ParentEd23</th>\n",
       "      <th>ParentEd24</th>\n",
       "      <th>per_diff (24-21)</th>\n",
       "    </tr>\n",
       "  </thead>\n",
       "  <tbody>\n",
       "    <tr>\n",
       "      <th>0</th>\n",
       "      <td>1</td>\n",
       "      <td>64.26%</td>\n",
       "      <td>64.4%</td>\n",
       "      <td>64.42%</td>\n",
       "      <td>0.16%</td>\n",
       "    </tr>\n",
       "    <tr>\n",
       "      <th>1</th>\n",
       "      <td>0</td>\n",
       "      <td>35.74%</td>\n",
       "      <td>35.6%</td>\n",
       "      <td>35.58%</td>\n",
       "      <td>-0.16%</td>\n",
       "    </tr>\n",
       "  </tbody>\n",
       "</table>\n",
       "</div>"
      ],
      "text/plain": [
       "   index ParentEd21 ParentEd23 ParentEd24 per_diff (24-21)\n",
       "0      1     64.26%      64.4%     64.42%            0.16%\n",
       "1      0     35.74%      35.6%     35.58%           -0.16%"
      ]
     },
     "execution_count": 32,
     "metadata": {},
     "output_type": "execute_result"
    }
   ],
   "source": [
    "#normalized by Parent Education by ACT scores\n",
    "pared = a['ParentEd']\n",
    "pared['per_diff (24-21)'] = pared['ParentEd24'] - pared['ParentEd21'] \n",
    "pared = pared.set_index('index')\n",
    "pared = pared.mul(100).round(2).astype(str).add('%')\n",
    "pared = pared.reset_index()\n",
    "pared"
   ]
  }
 ],
 "metadata": {
  "kernelspec": {
   "display_name": "Python 3 (ipykernel)",
   "language": "python",
   "name": "python3"
  },
  "language_info": {
   "codemirror_mode": {
    "name": "ipython",
    "version": 3
   },
   "file_extension": ".py",
   "mimetype": "text/x-python",
   "name": "python",
   "nbconvert_exporter": "python",
   "pygments_lexer": "ipython3",
   "version": "3.9.12"
  }
 },
 "nbformat": 4,
 "nbformat_minor": 5
}
